{
  "nbformat": 4,
  "nbformat_minor": 0,
  "metadata": {
    "colab": {
      "name": "Star Classification - Math",
      "provenance": [],
      "include_colab_link": true
    },
    "kernelspec": {
      "name": "python3",
      "display_name": "Python 3"
    },
    "language_info": {
      "name": "python"
    }
  },
  "cells": [
    {
      "cell_type": "markdown",
      "metadata": {
        "id": "view-in-github",
        "colab_type": "text"
      },
      "source": [
        "<a href=\"https://colab.research.google.com/github/math-sousa/Star-classification-NASA/blob/main/Star_Classification_Math.ipynb\" target=\"_parent\"><img src=\"https://colab.research.google.com/assets/colab-badge.svg\" alt=\"Open In Colab\"/></a>"
      ]
    },
    {
      "cell_type": "markdown",
      "metadata": {
        "id": "N1d1i3x0IuM9"
      },
      "source": [
        "# **STAR CLASSIFICATION - NASA**"
      ]
    },
    {
      "cell_type": "markdown",
      "metadata": {
        "id": "WCmrfDXUvA6x"
      },
      "source": [
        "# **DESCRIBING THE PROBLEM**\n",
        "\n",
        "The problem will be described here, later."
      ]
    },
    {
      "cell_type": "code",
      "metadata": {
        "id": "JtFjZoQhu-2D"
      },
      "source": [
        "#importing dataset from github\n",
        "path = 'https://raw.githubusercontent.com/math-sousa/Star-classification-NASA/main/Stars.csv'"
      ],
      "execution_count": 7,
      "outputs": []
    },
    {
      "cell_type": "code",
      "metadata": {
        "id": "ztJXzWHlQMYL"
      },
      "source": [
        "#importing essencial libraries\n",
        "\n",
        "import pandas as pd\n",
        "import seaborn as sns\n",
        "import numpy as np\n",
        "from matplotlib import pyplot as plt\n",
        "from sklearn.naive_bayes import GaussianNB\n",
        "from sklearn.svm import SVC\n",
        "from sklearn.model_selection import train_test_split as tts\n",
        "from sklearn.metrics import plot_confusion_matrix, confusion_matrix, classification_report\n",
        "from sklearn.preprocessing import StandardScaler\n",
        "from sklearn.model_selection import GridSearchCV\n",
        "\n",
        "%matplotlib inline"
      ],
      "execution_count": 142,
      "outputs": []
    },
    {
      "cell_type": "code",
      "metadata": {
        "id": "w-VVhnAFklCC"
      },
      "source": [
        "stars = pd.read_csv(path, sep=',')"
      ],
      "execution_count": 9,
      "outputs": []
    },
    {
      "cell_type": "code",
      "metadata": {
        "id": "4c3o6hatkuZn",
        "colab": {
          "base_uri": "https://localhost:8080/",
          "height": 419
        },
        "outputId": "28b0fded-cc8e-4f12-eb00-6f53aafd8aa6"
      },
      "source": [
        "stars"
      ],
      "execution_count": 18,
      "outputs": [
        {
          "output_type": "execute_result",
          "data": {
            "text/html": [
              "<div>\n",
              "<style scoped>\n",
              "    .dataframe tbody tr th:only-of-type {\n",
              "        vertical-align: middle;\n",
              "    }\n",
              "\n",
              "    .dataframe tbody tr th {\n",
              "        vertical-align: top;\n",
              "    }\n",
              "\n",
              "    .dataframe thead th {\n",
              "        text-align: right;\n",
              "    }\n",
              "</style>\n",
              "<table border=\"1\" class=\"dataframe\">\n",
              "  <thead>\n",
              "    <tr style=\"text-align: right;\">\n",
              "      <th></th>\n",
              "      <th>Temperature</th>\n",
              "      <th>L</th>\n",
              "      <th>R</th>\n",
              "      <th>A_M</th>\n",
              "      <th>Color</th>\n",
              "      <th>Spectral_Class</th>\n",
              "      <th>Type</th>\n",
              "    </tr>\n",
              "  </thead>\n",
              "  <tbody>\n",
              "    <tr>\n",
              "      <th>0</th>\n",
              "      <td>3068</td>\n",
              "      <td>0.002400</td>\n",
              "      <td>0.1700</td>\n",
              "      <td>16.12</td>\n",
              "      <td>Red</td>\n",
              "      <td>M</td>\n",
              "      <td>0</td>\n",
              "    </tr>\n",
              "    <tr>\n",
              "      <th>1</th>\n",
              "      <td>3042</td>\n",
              "      <td>0.000500</td>\n",
              "      <td>0.1542</td>\n",
              "      <td>16.60</td>\n",
              "      <td>Red</td>\n",
              "      <td>M</td>\n",
              "      <td>0</td>\n",
              "    </tr>\n",
              "    <tr>\n",
              "      <th>2</th>\n",
              "      <td>2600</td>\n",
              "      <td>0.000300</td>\n",
              "      <td>0.1020</td>\n",
              "      <td>18.70</td>\n",
              "      <td>Red</td>\n",
              "      <td>M</td>\n",
              "      <td>0</td>\n",
              "    </tr>\n",
              "    <tr>\n",
              "      <th>3</th>\n",
              "      <td>2800</td>\n",
              "      <td>0.000200</td>\n",
              "      <td>0.1600</td>\n",
              "      <td>16.65</td>\n",
              "      <td>Red</td>\n",
              "      <td>M</td>\n",
              "      <td>0</td>\n",
              "    </tr>\n",
              "    <tr>\n",
              "      <th>4</th>\n",
              "      <td>1939</td>\n",
              "      <td>0.000138</td>\n",
              "      <td>0.1030</td>\n",
              "      <td>20.06</td>\n",
              "      <td>Red</td>\n",
              "      <td>M</td>\n",
              "      <td>0</td>\n",
              "    </tr>\n",
              "    <tr>\n",
              "      <th>...</th>\n",
              "      <td>...</td>\n",
              "      <td>...</td>\n",
              "      <td>...</td>\n",
              "      <td>...</td>\n",
              "      <td>...</td>\n",
              "      <td>...</td>\n",
              "      <td>...</td>\n",
              "    </tr>\n",
              "    <tr>\n",
              "      <th>235</th>\n",
              "      <td>38940</td>\n",
              "      <td>374830.000000</td>\n",
              "      <td>1356.0000</td>\n",
              "      <td>-9.93</td>\n",
              "      <td>Blue</td>\n",
              "      <td>O</td>\n",
              "      <td>5</td>\n",
              "    </tr>\n",
              "    <tr>\n",
              "      <th>236</th>\n",
              "      <td>30839</td>\n",
              "      <td>834042.000000</td>\n",
              "      <td>1194.0000</td>\n",
              "      <td>-10.63</td>\n",
              "      <td>Blue</td>\n",
              "      <td>O</td>\n",
              "      <td>5</td>\n",
              "    </tr>\n",
              "    <tr>\n",
              "      <th>237</th>\n",
              "      <td>8829</td>\n",
              "      <td>537493.000000</td>\n",
              "      <td>1423.0000</td>\n",
              "      <td>-10.73</td>\n",
              "      <td>White</td>\n",
              "      <td>A</td>\n",
              "      <td>5</td>\n",
              "    </tr>\n",
              "    <tr>\n",
              "      <th>238</th>\n",
              "      <td>9235</td>\n",
              "      <td>404940.000000</td>\n",
              "      <td>1112.0000</td>\n",
              "      <td>-11.23</td>\n",
              "      <td>White</td>\n",
              "      <td>A</td>\n",
              "      <td>5</td>\n",
              "    </tr>\n",
              "    <tr>\n",
              "      <th>239</th>\n",
              "      <td>37882</td>\n",
              "      <td>294903.000000</td>\n",
              "      <td>1783.0000</td>\n",
              "      <td>-7.80</td>\n",
              "      <td>Blue</td>\n",
              "      <td>O</td>\n",
              "      <td>5</td>\n",
              "    </tr>\n",
              "  </tbody>\n",
              "</table>\n",
              "<p>240 rows × 7 columns</p>\n",
              "</div>"
            ],
            "text/plain": [
              "     Temperature              L          R    A_M  Color Spectral_Class  Type\n",
              "0           3068       0.002400     0.1700  16.12    Red              M     0\n",
              "1           3042       0.000500     0.1542  16.60    Red              M     0\n",
              "2           2600       0.000300     0.1020  18.70    Red              M     0\n",
              "3           2800       0.000200     0.1600  16.65    Red              M     0\n",
              "4           1939       0.000138     0.1030  20.06    Red              M     0\n",
              "..           ...            ...        ...    ...    ...            ...   ...\n",
              "235        38940  374830.000000  1356.0000  -9.93   Blue              O     5\n",
              "236        30839  834042.000000  1194.0000 -10.63   Blue              O     5\n",
              "237         8829  537493.000000  1423.0000 -10.73  White              A     5\n",
              "238         9235  404940.000000  1112.0000 -11.23  White              A     5\n",
              "239        37882  294903.000000  1783.0000  -7.80   Blue              O     5\n",
              "\n",
              "[240 rows x 7 columns]"
            ]
          },
          "metadata": {
            "tags": []
          },
          "execution_count": 18
        }
      ]
    },
    {
      "cell_type": "code",
      "metadata": {
        "colab": {
          "base_uri": "https://localhost:8080/",
          "height": 419
        },
        "id": "1qST6YAt0UnM",
        "outputId": "50f654a7-4090-442a-dc60-23cefb9eca47"
      },
      "source": [
        "stars.columns = ['Temperature', 'Luminosity', 'Radius', 'Magnitude', 'Color', 'Spectral_class', 'Type'] #rename columns\n",
        "stars"
      ],
      "execution_count": 24,
      "outputs": [
        {
          "output_type": "execute_result",
          "data": {
            "text/html": [
              "<div>\n",
              "<style scoped>\n",
              "    .dataframe tbody tr th:only-of-type {\n",
              "        vertical-align: middle;\n",
              "    }\n",
              "\n",
              "    .dataframe tbody tr th {\n",
              "        vertical-align: top;\n",
              "    }\n",
              "\n",
              "    .dataframe thead th {\n",
              "        text-align: right;\n",
              "    }\n",
              "</style>\n",
              "<table border=\"1\" class=\"dataframe\">\n",
              "  <thead>\n",
              "    <tr style=\"text-align: right;\">\n",
              "      <th></th>\n",
              "      <th>Temperature</th>\n",
              "      <th>Luminosity</th>\n",
              "      <th>Radius</th>\n",
              "      <th>Magnitude</th>\n",
              "      <th>Color</th>\n",
              "      <th>Spectral_class</th>\n",
              "      <th>Type</th>\n",
              "    </tr>\n",
              "  </thead>\n",
              "  <tbody>\n",
              "    <tr>\n",
              "      <th>0</th>\n",
              "      <td>3068</td>\n",
              "      <td>0.002400</td>\n",
              "      <td>0.1700</td>\n",
              "      <td>16.12</td>\n",
              "      <td>Red</td>\n",
              "      <td>M</td>\n",
              "      <td>0</td>\n",
              "    </tr>\n",
              "    <tr>\n",
              "      <th>1</th>\n",
              "      <td>3042</td>\n",
              "      <td>0.000500</td>\n",
              "      <td>0.1542</td>\n",
              "      <td>16.60</td>\n",
              "      <td>Red</td>\n",
              "      <td>M</td>\n",
              "      <td>0</td>\n",
              "    </tr>\n",
              "    <tr>\n",
              "      <th>2</th>\n",
              "      <td>2600</td>\n",
              "      <td>0.000300</td>\n",
              "      <td>0.1020</td>\n",
              "      <td>18.70</td>\n",
              "      <td>Red</td>\n",
              "      <td>M</td>\n",
              "      <td>0</td>\n",
              "    </tr>\n",
              "    <tr>\n",
              "      <th>3</th>\n",
              "      <td>2800</td>\n",
              "      <td>0.000200</td>\n",
              "      <td>0.1600</td>\n",
              "      <td>16.65</td>\n",
              "      <td>Red</td>\n",
              "      <td>M</td>\n",
              "      <td>0</td>\n",
              "    </tr>\n",
              "    <tr>\n",
              "      <th>4</th>\n",
              "      <td>1939</td>\n",
              "      <td>0.000138</td>\n",
              "      <td>0.1030</td>\n",
              "      <td>20.06</td>\n",
              "      <td>Red</td>\n",
              "      <td>M</td>\n",
              "      <td>0</td>\n",
              "    </tr>\n",
              "    <tr>\n",
              "      <th>...</th>\n",
              "      <td>...</td>\n",
              "      <td>...</td>\n",
              "      <td>...</td>\n",
              "      <td>...</td>\n",
              "      <td>...</td>\n",
              "      <td>...</td>\n",
              "      <td>...</td>\n",
              "    </tr>\n",
              "    <tr>\n",
              "      <th>235</th>\n",
              "      <td>38940</td>\n",
              "      <td>374830.000000</td>\n",
              "      <td>1356.0000</td>\n",
              "      <td>-9.93</td>\n",
              "      <td>Blue</td>\n",
              "      <td>O</td>\n",
              "      <td>5</td>\n",
              "    </tr>\n",
              "    <tr>\n",
              "      <th>236</th>\n",
              "      <td>30839</td>\n",
              "      <td>834042.000000</td>\n",
              "      <td>1194.0000</td>\n",
              "      <td>-10.63</td>\n",
              "      <td>Blue</td>\n",
              "      <td>O</td>\n",
              "      <td>5</td>\n",
              "    </tr>\n",
              "    <tr>\n",
              "      <th>237</th>\n",
              "      <td>8829</td>\n",
              "      <td>537493.000000</td>\n",
              "      <td>1423.0000</td>\n",
              "      <td>-10.73</td>\n",
              "      <td>White</td>\n",
              "      <td>A</td>\n",
              "      <td>5</td>\n",
              "    </tr>\n",
              "    <tr>\n",
              "      <th>238</th>\n",
              "      <td>9235</td>\n",
              "      <td>404940.000000</td>\n",
              "      <td>1112.0000</td>\n",
              "      <td>-11.23</td>\n",
              "      <td>White</td>\n",
              "      <td>A</td>\n",
              "      <td>5</td>\n",
              "    </tr>\n",
              "    <tr>\n",
              "      <th>239</th>\n",
              "      <td>37882</td>\n",
              "      <td>294903.000000</td>\n",
              "      <td>1783.0000</td>\n",
              "      <td>-7.80</td>\n",
              "      <td>Blue</td>\n",
              "      <td>O</td>\n",
              "      <td>5</td>\n",
              "    </tr>\n",
              "  </tbody>\n",
              "</table>\n",
              "<p>240 rows × 7 columns</p>\n",
              "</div>"
            ],
            "text/plain": [
              "     Temperature     Luminosity     Radius  ...  Color Spectral_class Type\n",
              "0           3068       0.002400     0.1700  ...    Red              M    0\n",
              "1           3042       0.000500     0.1542  ...    Red              M    0\n",
              "2           2600       0.000300     0.1020  ...    Red              M    0\n",
              "3           2800       0.000200     0.1600  ...    Red              M    0\n",
              "4           1939       0.000138     0.1030  ...    Red              M    0\n",
              "..           ...            ...        ...  ...    ...            ...  ...\n",
              "235        38940  374830.000000  1356.0000  ...   Blue              O    5\n",
              "236        30839  834042.000000  1194.0000  ...   Blue              O    5\n",
              "237         8829  537493.000000  1423.0000  ...  White              A    5\n",
              "238         9235  404940.000000  1112.0000  ...  White              A    5\n",
              "239        37882  294903.000000  1783.0000  ...   Blue              O    5\n",
              "\n",
              "[240 rows x 7 columns]"
            ]
          },
          "metadata": {
            "tags": []
          },
          "execution_count": 24
        }
      ]
    },
    {
      "cell_type": "markdown",
      "metadata": {
        "id": "W4ZBP6i217bu"
      },
      "source": [
        "#**EXPLORATORY DATA ANALYSIS**"
      ]
    },
    {
      "cell_type": "code",
      "metadata": {
        "colab": {
          "base_uri": "https://localhost:8080/"
        },
        "id": "AtdY-YlN2duF",
        "outputId": "d37cb6f2-9a41-4c90-c1e5-3eb41a15bcf6"
      },
      "source": [
        "stars.info()"
      ],
      "execution_count": 26,
      "outputs": [
        {
          "output_type": "stream",
          "text": [
            "<class 'pandas.core.frame.DataFrame'>\n",
            "RangeIndex: 240 entries, 0 to 239\n",
            "Data columns (total 7 columns):\n",
            " #   Column          Non-Null Count  Dtype  \n",
            "---  ------          --------------  -----  \n",
            " 0   Temperature     240 non-null    int64  \n",
            " 1   Luminosity      240 non-null    float64\n",
            " 2   Radius          240 non-null    float64\n",
            " 3   Magnitude       240 non-null    float64\n",
            " 4   Color           240 non-null    object \n",
            " 5   Spectral_class  240 non-null    object \n",
            " 6   Type            240 non-null    int64  \n",
            "dtypes: float64(3), int64(2), object(2)\n",
            "memory usage: 13.2+ KB\n"
          ],
          "name": "stdout"
        }
      ]
    },
    {
      "cell_type": "code",
      "metadata": {
        "colab": {
          "base_uri": "https://localhost:8080/"
        },
        "id": "EXJO-R9K23Fv",
        "outputId": "b54d66e9-2186-49fa-b277-308e761050e4"
      },
      "source": [
        "stars.isna().sum() #verify amount of data == null"
      ],
      "execution_count": 27,
      "outputs": [
        {
          "output_type": "execute_result",
          "data": {
            "text/plain": [
              "Temperature       0\n",
              "Luminosity        0\n",
              "Radius            0\n",
              "Magnitude         0\n",
              "Color             0\n",
              "Spectral_class    0\n",
              "Type              0\n",
              "dtype: int64"
            ]
          },
          "metadata": {
            "tags": []
          },
          "execution_count": 27
        }
      ]
    },
    {
      "cell_type": "code",
      "metadata": {
        "colab": {
          "base_uri": "https://localhost:8080/",
          "height": 350
        },
        "id": "RyHxRnSB_vzs",
        "outputId": "5d6e86eb-4496-4b54-86ec-4e13d2aaee11"
      },
      "source": [
        "sns.countplot(stars['Type'])"
      ],
      "execution_count": 31,
      "outputs": [
        {
          "output_type": "stream",
          "text": [
            "/usr/local/lib/python3.7/dist-packages/seaborn/_decorators.py:43: FutureWarning: Pass the following variable as a keyword arg: x. From version 0.12, the only valid positional argument will be `data`, and passing other arguments without an explicit keyword will result in an error or misinterpretation.\n",
            "  FutureWarning\n"
          ],
          "name": "stderr"
        },
        {
          "output_type": "execute_result",
          "data": {
            "text/plain": [
              "<matplotlib.axes._subplots.AxesSubplot at 0x7fe899b73190>"
            ]
          },
          "metadata": {
            "tags": []
          },
          "execution_count": 31
        },
        {
          "output_type": "display_data",
          "data": {
            "image/png": "[encoded data removed]",
            "text/plain": [
              "<Figure size 432x288 with 1 Axes>"
            ]
          },
          "metadata": {
            "tags": [],
            "needs_background": "light"
          }
        }
      ]
    },
    {
      "cell_type": "code",
      "metadata": {
        "id": "z5h4al7dklFk",
        "colab": {
          "base_uri": "https://localhost:8080/",
          "height": 297
        },
        "outputId": "0666ccd4-601d-4f56-a7da-662995d1555a"
      },
      "source": [
        "stars.describe() #descriptive stats"
      ],
      "execution_count": 25,
      "outputs": [
        {
          "output_type": "execute_result",
          "data": {
            "text/html": [
              "<div>\n",
              "<style scoped>\n",
              "    .dataframe tbody tr th:only-of-type {\n",
              "        vertical-align: middle;\n",
              "    }\n",
              "\n",
              "    .dataframe tbody tr th {\n",
              "        vertical-align: top;\n",
              "    }\n",
              "\n",
              "    .dataframe thead th {\n",
              "        text-align: right;\n",
              "    }\n",
              "</style>\n",
              "<table border=\"1\" class=\"dataframe\">\n",
              "  <thead>\n",
              "    <tr style=\"text-align: right;\">\n",
              "      <th></th>\n",
              "      <th>Temperature</th>\n",
              "      <th>Luminosity</th>\n",
              "      <th>Radius</th>\n",
              "      <th>Magnitude</th>\n",
              "      <th>Type</th>\n",
              "    </tr>\n",
              "  </thead>\n",
              "  <tbody>\n",
              "    <tr>\n",
              "      <th>count</th>\n",
              "      <td>240.000000</td>\n",
              "      <td>240.000000</td>\n",
              "      <td>240.000000</td>\n",
              "      <td>240.000000</td>\n",
              "      <td>240.000000</td>\n",
              "    </tr>\n",
              "    <tr>\n",
              "      <th>mean</th>\n",
              "      <td>10497.462500</td>\n",
              "      <td>107188.361635</td>\n",
              "      <td>237.157781</td>\n",
              "      <td>4.382396</td>\n",
              "      <td>2.500000</td>\n",
              "    </tr>\n",
              "    <tr>\n",
              "      <th>std</th>\n",
              "      <td>9552.425037</td>\n",
              "      <td>179432.244940</td>\n",
              "      <td>517.155763</td>\n",
              "      <td>10.532512</td>\n",
              "      <td>1.711394</td>\n",
              "    </tr>\n",
              "    <tr>\n",
              "      <th>min</th>\n",
              "      <td>1939.000000</td>\n",
              "      <td>0.000080</td>\n",
              "      <td>0.008400</td>\n",
              "      <td>-11.920000</td>\n",
              "      <td>0.000000</td>\n",
              "    </tr>\n",
              "    <tr>\n",
              "      <th>25%</th>\n",
              "      <td>3344.250000</td>\n",
              "      <td>0.000865</td>\n",
              "      <td>0.102750</td>\n",
              "      <td>-6.232500</td>\n",
              "      <td>1.000000</td>\n",
              "    </tr>\n",
              "    <tr>\n",
              "      <th>50%</th>\n",
              "      <td>5776.000000</td>\n",
              "      <td>0.070500</td>\n",
              "      <td>0.762500</td>\n",
              "      <td>8.313000</td>\n",
              "      <td>2.500000</td>\n",
              "    </tr>\n",
              "    <tr>\n",
              "      <th>75%</th>\n",
              "      <td>15055.500000</td>\n",
              "      <td>198050.000000</td>\n",
              "      <td>42.750000</td>\n",
              "      <td>13.697500</td>\n",
              "      <td>4.000000</td>\n",
              "    </tr>\n",
              "    <tr>\n",
              "      <th>max</th>\n",
              "      <td>40000.000000</td>\n",
              "      <td>849420.000000</td>\n",
              "      <td>1948.500000</td>\n",
              "      <td>20.060000</td>\n",
              "      <td>5.000000</td>\n",
              "    </tr>\n",
              "  </tbody>\n",
              "</table>\n",
              "</div>"
            ],
            "text/plain": [
              "        Temperature     Luminosity       Radius   Magnitude        Type\n",
              "count    240.000000     240.000000   240.000000  240.000000  240.000000\n",
              "mean   10497.462500  107188.361635   237.157781    4.382396    2.500000\n",
              "std     9552.425037  179432.244940   517.155763   10.532512    1.711394\n",
              "min     1939.000000       0.000080     0.008400  -11.920000    0.000000\n",
              "25%     3344.250000       0.000865     0.102750   -6.232500    1.000000\n",
              "50%     5776.000000       0.070500     0.762500    8.313000    2.500000\n",
              "75%    15055.500000  198050.000000    42.750000   13.697500    4.000000\n",
              "max    40000.000000  849420.000000  1948.500000   20.060000    5.000000"
            ]
          },
          "metadata": {
            "tags": []
          },
          "execution_count": 25
        }
      ]
    },
    {
      "cell_type": "code",
      "metadata": {
        "colab": {
          "base_uri": "https://localhost:8080/",
          "height": 265
        },
        "id": "awHtk2W9zLet",
        "outputId": "e1243ac9-4294-402b-c716-1eb7779debad"
      },
      "source": [
        "stars.plot(kind='box', subplots=True, sharex=False, sharey=False)\n",
        "plt.show()"
      ],
      "execution_count": 38,
      "outputs": [
        {
          "output_type": "display_data",
          "data": {
            "image/png": "[encoded data removed]",
            "text/plain": [
              "<Figure size 432x288 with 5 Axes>"
            ]
          },
          "metadata": {
            "tags": [],
            "needs_background": "light"
          }
        }
      ]
    },
    {
      "cell_type": "code",
      "metadata": {
        "colab": {
          "base_uri": "https://localhost:8080/",
          "height": 920
        },
        "id": "LFIeSOiv3ErX",
        "outputId": "5ec9414d-183f-4be2-b0c2-06569a004528"
      },
      "source": [
        "sns.pairplot(stars) #plot graphs in pairs"
      ],
      "execution_count": 41,
      "outputs": [
        {
          "output_type": "execute_result",
          "data": {
            "text/plain": [
              "<seaborn.axisgrid.PairGrid at 0x7fe8a7ea2d50>"
            ]
          },
          "metadata": {
            "tags": []
          },
          "execution_count": 41
        },
        {
          "output_type": "display_data",
          "data": {
            "image/png": "[encoded data removed]",
            "text/plain": [
              "<Figure size 900x900 with 30 Axes>"
            ]
          },
          "metadata": {
            "tags": [],
            "needs_background": "light"
          }
        }
      ]
    },
    {
      "cell_type": "code",
      "metadata": {
        "colab": {
          "base_uri": "https://localhost:8080/",
          "height": 339
        },
        "id": "-gM1oqv3B2cY",
        "outputId": "6136b8f5-4298-47c3-dc59-cb4e90f1ce32"
      },
      "source": [
        "sns.heatmap(stars.corr(), annot=True) #correlation matrix"
      ],
      "execution_count": 43,
      "outputs": [
        {
          "output_type": "execute_result",
          "data": {
            "text/plain": [
              "<matplotlib.axes._subplots.AxesSubplot at 0x7fe89885dfd0>"
            ]
          },
          "metadata": {
            "tags": []
          },
          "execution_count": 43
        },
        {
          "output_type": "display_data",
          "data": {
            "image/png": "[encoded data removed]",
            "text/plain": [
              "<Figure size 432x288 with 2 Axes>"
            ]
          },
          "metadata": {
            "tags": [],
            "needs_background": "light"
          }
        }
      ]
    },
    {
      "cell_type": "markdown",
      "metadata": {
        "id": "YUb7PskFHRgC"
      },
      "source": [
        "'Temperature' is the least relevant feature (corr = 0.41), whilst 'Magnitude' is the most relevant feature (corr = -0.96)."
      ]
    },
    {
      "cell_type": "code",
      "metadata": {
        "colab": {
          "base_uri": "https://localhost:8080/",
          "height": 391
        },
        "id": "J0FS4ql_DRzX",
        "outputId": "11fd8302-825f-4b8d-9c57-490ddd2381a5"
      },
      "source": [
        "pair = stars[['Magnitude', 'Type']]\n",
        "sns.pairplot(pair)"
      ],
      "execution_count": 46,
      "outputs": [
        {
          "output_type": "execute_result",
          "data": {
            "text/plain": [
              "<seaborn.axisgrid.PairGrid at 0x7fe8987ac3d0>"
            ]
          },
          "metadata": {
            "tags": []
          },
          "execution_count": 46
        },
        {
          "output_type": "display_data",
          "data": {
            "image/png": "[encoded data removed]",
            "text/plain": [
              "<Figure size 360x360 with 6 Axes>"
            ]
          },
          "metadata": {
            "tags": [],
            "needs_background": "light"
          }
        }
      ]
    },
    {
      "cell_type": "markdown",
      "metadata": {
        "id": "pjmqdPR5N_5Z"
      },
      "source": [
        "# DATA PRE-PROCESSING"
      ]
    },
    {
      "cell_type": "code",
      "metadata": {
        "id": "toWwHtfLOD5Q"
      },
      "source": [
        "stars = stars.drop(['Color', 'Spectral_class'], axis=1)"
      ],
      "execution_count": 78,
      "outputs": []
    },
    {
      "cell_type": "code",
      "metadata": {
        "colab": {
          "base_uri": "https://localhost:8080/",
          "height": 204
        },
        "id": "xvPkpf1YQDt6",
        "outputId": "b2fb01af-7b9d-49c5-bad6-d030ab943cad"
      },
      "source": [
        "stars.head()"
      ],
      "execution_count": 79,
      "outputs": [
        {
          "output_type": "execute_result",
          "data": {
            "text/html": [
              "<div>\n",
              "<style scoped>\n",
              "    .dataframe tbody tr th:only-of-type {\n",
              "        vertical-align: middle;\n",
              "    }\n",
              "\n",
              "    .dataframe tbody tr th {\n",
              "        vertical-align: top;\n",
              "    }\n",
              "\n",
              "    .dataframe thead th {\n",
              "        text-align: right;\n",
              "    }\n",
              "</style>\n",
              "<table border=\"1\" class=\"dataframe\">\n",
              "  <thead>\n",
              "    <tr style=\"text-align: right;\">\n",
              "      <th></th>\n",
              "      <th>Temperature</th>\n",
              "      <th>Luminosity</th>\n",
              "      <th>Radius</th>\n",
              "      <th>Magnitude</th>\n",
              "      <th>Type</th>\n",
              "    </tr>\n",
              "  </thead>\n",
              "  <tbody>\n",
              "    <tr>\n",
              "      <th>0</th>\n",
              "      <td>3068</td>\n",
              "      <td>0.002400</td>\n",
              "      <td>0.1700</td>\n",
              "      <td>16.12</td>\n",
              "      <td>0</td>\n",
              "    </tr>\n",
              "    <tr>\n",
              "      <th>1</th>\n",
              "      <td>3042</td>\n",
              "      <td>0.000500</td>\n",
              "      <td>0.1542</td>\n",
              "      <td>16.60</td>\n",
              "      <td>0</td>\n",
              "    </tr>\n",
              "    <tr>\n",
              "      <th>2</th>\n",
              "      <td>2600</td>\n",
              "      <td>0.000300</td>\n",
              "      <td>0.1020</td>\n",
              "      <td>18.70</td>\n",
              "      <td>0</td>\n",
              "    </tr>\n",
              "    <tr>\n",
              "      <th>3</th>\n",
              "      <td>2800</td>\n",
              "      <td>0.000200</td>\n",
              "      <td>0.1600</td>\n",
              "      <td>16.65</td>\n",
              "      <td>0</td>\n",
              "    </tr>\n",
              "    <tr>\n",
              "      <th>4</th>\n",
              "      <td>1939</td>\n",
              "      <td>0.000138</td>\n",
              "      <td>0.1030</td>\n",
              "      <td>20.06</td>\n",
              "      <td>0</td>\n",
              "    </tr>\n",
              "  </tbody>\n",
              "</table>\n",
              "</div>"
            ],
            "text/plain": [
              "   Temperature  Luminosity  Radius  Magnitude  Type\n",
              "0         3068    0.002400  0.1700      16.12     0\n",
              "1         3042    0.000500  0.1542      16.60     0\n",
              "2         2600    0.000300  0.1020      18.70     0\n",
              "3         2800    0.000200  0.1600      16.65     0\n",
              "4         1939    0.000138  0.1030      20.06     0"
            ]
          },
          "metadata": {
            "tags": []
          },
          "execution_count": 79
        }
      ]
    },
    {
      "cell_type": "code",
      "metadata": {
        "id": "_dqF01aSQBg1"
      },
      "source": [
        "X = stars[stars.columns[:-1]]\n",
        "scaler = StandardScaler()\n",
        "stars[stars.columns[:-1]] = scaler.fit_transform(X) # Standardized features"
      ],
      "execution_count": 83,
      "outputs": []
    },
    {
      "cell_type": "code",
      "metadata": {
        "colab": {
          "base_uri": "https://localhost:8080/",
          "height": 204
        },
        "id": "7II6bejDPzws",
        "outputId": "c30fc3f9-363b-48de-aad0-959ea4866cec"
      },
      "source": [
        "stars.head()"
      ],
      "execution_count": 85,
      "outputs": [
        {
          "output_type": "execute_result",
          "data": {
            "text/html": [
              "<div>\n",
              "<style scoped>\n",
              "    .dataframe tbody tr th:only-of-type {\n",
              "        vertical-align: middle;\n",
              "    }\n",
              "\n",
              "    .dataframe tbody tr th {\n",
              "        vertical-align: top;\n",
              "    }\n",
              "\n",
              "    .dataframe thead th {\n",
              "        text-align: right;\n",
              "    }\n",
              "</style>\n",
              "<table border=\"1\" class=\"dataframe\">\n",
              "  <thead>\n",
              "    <tr style=\"text-align: right;\">\n",
              "      <th></th>\n",
              "      <th>Temperature</th>\n",
              "      <th>Luminosity</th>\n",
              "      <th>Radius</th>\n",
              "      <th>Magnitude</th>\n",
              "      <th>Type</th>\n",
              "    </tr>\n",
              "  </thead>\n",
              "  <tbody>\n",
              "    <tr>\n",
              "      <th>0</th>\n",
              "      <td>-0.779382</td>\n",
              "      <td>-0.598624</td>\n",
              "      <td>-0.459210</td>\n",
              "      <td>1.116745</td>\n",
              "      <td>0</td>\n",
              "    </tr>\n",
              "    <tr>\n",
              "      <th>1</th>\n",
              "      <td>-0.782110</td>\n",
              "      <td>-0.598624</td>\n",
              "      <td>-0.459241</td>\n",
              "      <td>1.162414</td>\n",
              "      <td>0</td>\n",
              "    </tr>\n",
              "    <tr>\n",
              "      <th>2</th>\n",
              "      <td>-0.828477</td>\n",
              "      <td>-0.598624</td>\n",
              "      <td>-0.459342</td>\n",
              "      <td>1.362213</td>\n",
              "      <td>0</td>\n",
              "    </tr>\n",
              "    <tr>\n",
              "      <th>3</th>\n",
              "      <td>-0.807496</td>\n",
              "      <td>-0.598624</td>\n",
              "      <td>-0.459229</td>\n",
              "      <td>1.167171</td>\n",
              "      <td>0</td>\n",
              "    </tr>\n",
              "    <tr>\n",
              "      <th>4</th>\n",
              "      <td>-0.897819</td>\n",
              "      <td>-0.598624</td>\n",
              "      <td>-0.459340</td>\n",
              "      <td>1.491607</td>\n",
              "      <td>0</td>\n",
              "    </tr>\n",
              "  </tbody>\n",
              "</table>\n",
              "</div>"
            ],
            "text/plain": [
              "   Temperature  Luminosity    Radius  Magnitude  Type\n",
              "0    -0.779382   -0.598624 -0.459210   1.116745     0\n",
              "1    -0.782110   -0.598624 -0.459241   1.162414     0\n",
              "2    -0.828477   -0.598624 -0.459342   1.362213     0\n",
              "3    -0.807496   -0.598624 -0.459229   1.167171     0\n",
              "4    -0.897819   -0.598624 -0.459340   1.491607     0"
            ]
          },
          "metadata": {
            "tags": []
          },
          "execution_count": 85
        }
      ]
    },
    {
      "cell_type": "code",
      "metadata": {
        "id": "dXwffshRQarh"
      },
      "source": [
        "X = stars[stars.columns[:-1]]\n",
        "y = stars['Type']\n",
        "X_train, X_test, y_train, y_test = tts(X, y, test_size=0.30, random_state=42, shuffle=True)"
      ],
      "execution_count": 129,
      "outputs": []
    },
    {
      "cell_type": "code",
      "metadata": {
        "colab": {
          "base_uri": "https://localhost:8080/"
        },
        "id": "b5Ij03C9T_sj",
        "outputId": "3f10825d-3268-4d44-ed98-b43ec394dea3"
      },
      "source": [
        "print(f\"Features' shape: {X.shape}\")\n",
        "print(f\"Label's shape: {y.shape}\")"
      ],
      "execution_count": 131,
      "outputs": [
        {
          "output_type": "stream",
          "text": [
            "Features' shape: (240, 4)\n",
            "Label's shape: (240,)\n"
          ],
          "name": "stdout"
        }
      ]
    },
    {
      "cell_type": "code",
      "metadata": {
        "colab": {
          "base_uri": "https://localhost:8080/"
        },
        "id": "5hb1gGFQTpp8",
        "outputId": "9b6b36a4-7c7a-428f-dd30-e72670b797de"
      },
      "source": [
        "print(f\"Train data's shape {X_train.shape}\")\n",
        "print(f\"Test data's shape {X_test.shape}\")"
      ],
      "execution_count": 130,
      "outputs": [
        {
          "output_type": "stream",
          "text": [
            "Train data's shape (168, 4)\n",
            "Test data's shape (72, 4)\n"
          ],
          "name": "stdout"
        }
      ]
    },
    {
      "cell_type": "code",
      "metadata": {
        "colab": {
          "base_uri": "https://localhost:8080/",
          "height": 419
        },
        "id": "X-b3RIc4Zpsd",
        "outputId": "018f0699-a910-4dd2-b8c7-1fde202bfa8d"
      },
      "source": [
        "X_train"
      ],
      "execution_count": 132,
      "outputs": [
        {
          "output_type": "execute_result",
          "data": {
            "text/html": [
              "<div>\n",
              "<style scoped>\n",
              "    .dataframe tbody tr th:only-of-type {\n",
              "        vertical-align: middle;\n",
              "    }\n",
              "\n",
              "    .dataframe tbody tr th {\n",
              "        vertical-align: top;\n",
              "    }\n",
              "\n",
              "    .dataframe thead th {\n",
              "        text-align: right;\n",
              "    }\n",
              "</style>\n",
              "<table border=\"1\" class=\"dataframe\">\n",
              "  <thead>\n",
              "    <tr style=\"text-align: right;\">\n",
              "      <th></th>\n",
              "      <th>Temperature</th>\n",
              "      <th>Luminosity</th>\n",
              "      <th>Radius</th>\n",
              "      <th>Magnitude</th>\n",
              "    </tr>\n",
              "  </thead>\n",
              "  <tbody>\n",
              "    <tr>\n",
              "      <th>29</th>\n",
              "      <td>-0.342771</td>\n",
              "      <td>-0.598624</td>\n",
              "      <td>-0.459514</td>\n",
              "      <td>0.922655</td>\n",
              "    </tr>\n",
              "    <tr>\n",
              "      <th>124</th>\n",
              "      <td>-0.732910</td>\n",
              "      <td>-0.598624</td>\n",
              "      <td>-0.459328</td>\n",
              "      <td>1.211888</td>\n",
              "    </tr>\n",
              "    <tr>\n",
              "      <th>75</th>\n",
              "      <td>-0.767633</td>\n",
              "      <td>-0.598624</td>\n",
              "      <td>-0.458861</td>\n",
              "      <td>0.701924</td>\n",
              "    </tr>\n",
              "    <tr>\n",
              "      <th>82</th>\n",
              "      <td>-0.164433</td>\n",
              "      <td>-0.598624</td>\n",
              "      <td>-0.459521</td>\n",
              "      <td>0.894112</td>\n",
              "    </tr>\n",
              "    <tr>\n",
              "      <th>5</th>\n",
              "      <td>-0.803300</td>\n",
              "      <td>-0.598624</td>\n",
              "      <td>-0.459326</td>\n",
              "      <td>1.198568</td>\n",
              "    </tr>\n",
              "    <tr>\n",
              "      <th>...</th>\n",
              "      <td>...</td>\n",
              "      <td>...</td>\n",
              "      <td>...</td>\n",
              "      <td>...</td>\n",
              "    </tr>\n",
              "    <tr>\n",
              "      <th>106</th>\n",
              "      <td>1.482563</td>\n",
              "      <td>1.428652</td>\n",
              "      <td>-0.337465</td>\n",
              "      <td>-0.971633</td>\n",
              "    </tr>\n",
              "    <tr>\n",
              "      <th>14</th>\n",
              "      <td>-0.823232</td>\n",
              "      <td>-0.598624</td>\n",
              "      <td>-0.459268</td>\n",
              "      <td>0.704017</td>\n",
              "    </tr>\n",
              "    <tr>\n",
              "      <th>92</th>\n",
              "      <td>-0.673534</td>\n",
              "      <td>-0.598623</td>\n",
              "      <td>-0.457999</td>\n",
              "      <td>0.175595</td>\n",
              "    </tr>\n",
              "    <tr>\n",
              "      <th>179</th>\n",
              "      <td>1.467876</td>\n",
              "      <td>0.789139</td>\n",
              "      <td>1.738775</td>\n",
              "      <td>-1.200927</td>\n",
              "    </tr>\n",
              "    <tr>\n",
              "      <th>102</th>\n",
              "      <td>1.311569</td>\n",
              "      <td>0.110644</td>\n",
              "      <td>-0.389782</td>\n",
              "      <td>-0.964973</td>\n",
              "    </tr>\n",
              "  </tbody>\n",
              "</table>\n",
              "<p>168 rows × 4 columns</p>\n",
              "</div>"
            ],
            "text/plain": [
              "     Temperature  Luminosity    Radius  Magnitude\n",
              "29     -0.342771   -0.598624 -0.459514   0.922655\n",
              "124    -0.732910   -0.598624 -0.459328   1.211888\n",
              "75     -0.767633   -0.598624 -0.458861   0.701924\n",
              "82     -0.164433   -0.598624 -0.459521   0.894112\n",
              "5      -0.803300   -0.598624 -0.459326   1.198568\n",
              "..           ...         ...       ...        ...\n",
              "106     1.482563    1.428652 -0.337465  -0.971633\n",
              "14     -0.823232   -0.598624 -0.459268   0.704017\n",
              "92     -0.673534   -0.598623 -0.457999   0.175595\n",
              "179     1.467876    0.789139  1.738775  -1.200927\n",
              "102     1.311569    0.110644 -0.389782  -0.964973\n",
              "\n",
              "[168 rows x 4 columns]"
            ]
          },
          "metadata": {
            "tags": []
          },
          "execution_count": 132
        }
      ]
    },
    {
      "cell_type": "markdown",
      "metadata": {
        "id": "2KCRN8h2NszA"
      },
      "source": [
        "# PREDICTIVE MODEL"
      ]
    },
    {
      "cell_type": "code",
      "metadata": {
        "id": "4x2dDTSqUzMb"
      },
      "source": [
        "param_grid = [\n",
        "    {'kernel':['linear'], 'C':[1, 10, 100]},\n",
        "    {'kernel':['poly'], 'C':[1, 10, 100], 'degree':[2, 3, 4]},\n",
        "    {'kernel':['rbf'], 'C':[1, 10, 100], 'gamma':[1e-1, 1e-2, 1e-3]}\n",
        "]"
      ],
      "execution_count": 116,
      "outputs": []
    },
    {
      "cell_type": "code",
      "metadata": {
        "colab": {
          "base_uri": "https://localhost:8080/"
        },
        "id": "673e3arMFgFv",
        "outputId": "e891c362-78fb-4318-8e5b-49a84c3efcd9"
      },
      "source": [
        "pred = SVC()\n",
        "\n",
        "pred_grid = GridSearchCV(pred, param_grid, scoring='accuracy') #cross-validation: cv = 5 (default)\n",
        "pred_grid.fit(X=X_train, y=y_train)"
      ],
      "execution_count": 117,
      "outputs": [
        {
          "output_type": "execute_result",
          "data": {
            "text/plain": [
              "GridSearchCV(cv=None, error_score=nan,\n",
              "             estimator=SVC(C=1.0, break_ties=False, cache_size=200,\n",
              "                           class_weight=None, coef0=0.0,\n",
              "                           decision_function_shape='ovr', degree=3,\n",
              "                           gamma='scale', kernel='rbf', max_iter=-1,\n",
              "                           probability=False, random_state=None, shrinking=True,\n",
              "                           tol=0.001, verbose=False),\n",
              "             iid='deprecated', n_jobs=None,\n",
              "             param_grid=[{'C': [1, 10, 100], 'kernel': ['linear']},\n",
              "                         {'C': [1, 10, 100], 'degree': [2, 3, 4],\n",
              "                          'kernel': ['poly']},\n",
              "                         {'C': [1, 10, 100], 'gamma': [0.1, 0.01, 0.001],\n",
              "                          'kernel': ['rbf']}],\n",
              "             pre_dispatch='2*n_jobs', refit=True, return_train_score=False,\n",
              "             scoring='accuracy', verbose=0)"
            ]
          },
          "metadata": {
            "tags": []
          },
          "execution_count": 117
        }
      ]
    },
    {
      "cell_type": "code",
      "metadata": {
        "colab": {
          "base_uri": "https://localhost:8080/",
          "height": 1000
        },
        "id": "mhRsbt7CWkUe",
        "outputId": "0f732292-c27d-4c2d-dfb9-821ff9005bbe"
      },
      "source": [
        "results = pd.DataFrame(pred_grid.cv_results_)\n",
        "results"
      ],
      "execution_count": 118,
      "outputs": [
        {
          "output_type": "execute_result",
          "data": {
            "text/html": [
              "<div>\n",
              "<style scoped>\n",
              "    .dataframe tbody tr th:only-of-type {\n",
              "        vertical-align: middle;\n",
              "    }\n",
              "\n",
              "    .dataframe tbody tr th {\n",
              "        vertical-align: top;\n",
              "    }\n",
              "\n",
              "    .dataframe thead th {\n",
              "        text-align: right;\n",
              "    }\n",
              "</style>\n",
              "<table border=\"1\" class=\"dataframe\">\n",
              "  <thead>\n",
              "    <tr style=\"text-align: right;\">\n",
              "      <th></th>\n",
              "      <th>mean_fit_time</th>\n",
              "      <th>std_fit_time</th>\n",
              "      <th>mean_score_time</th>\n",
              "      <th>std_score_time</th>\n",
              "      <th>param_C</th>\n",
              "      <th>param_kernel</th>\n",
              "      <th>param_degree</th>\n",
              "      <th>param_gamma</th>\n",
              "      <th>params</th>\n",
              "      <th>split0_test_score</th>\n",
              "      <th>split1_test_score</th>\n",
              "      <th>split2_test_score</th>\n",
              "      <th>split3_test_score</th>\n",
              "      <th>split4_test_score</th>\n",
              "      <th>mean_test_score</th>\n",
              "      <th>std_test_score</th>\n",
              "      <th>rank_test_score</th>\n",
              "    </tr>\n",
              "  </thead>\n",
              "  <tbody>\n",
              "    <tr>\n",
              "      <th>0</th>\n",
              "      <td>0.002618</td>\n",
              "      <td>0.001277</td>\n",
              "      <td>0.001541</td>\n",
              "      <td>0.000657</td>\n",
              "      <td>1</td>\n",
              "      <td>linear</td>\n",
              "      <td>NaN</td>\n",
              "      <td>NaN</td>\n",
              "      <td>{'C': 1, 'kernel': 'linear'}</td>\n",
              "      <td>0.941176</td>\n",
              "      <td>1.000000</td>\n",
              "      <td>0.911765</td>\n",
              "      <td>0.939394</td>\n",
              "      <td>0.939394</td>\n",
              "      <td>0.946346</td>\n",
              "      <td>0.028976</td>\n",
              "      <td>12</td>\n",
              "    </tr>\n",
              "    <tr>\n",
              "      <th>1</th>\n",
              "      <td>0.001841</td>\n",
              "      <td>0.000082</td>\n",
              "      <td>0.000936</td>\n",
              "      <td>0.000030</td>\n",
              "      <td>10</td>\n",
              "      <td>linear</td>\n",
              "      <td>NaN</td>\n",
              "      <td>NaN</td>\n",
              "      <td>{'C': 10, 'kernel': 'linear'}</td>\n",
              "      <td>1.000000</td>\n",
              "      <td>1.000000</td>\n",
              "      <td>1.000000</td>\n",
              "      <td>1.000000</td>\n",
              "      <td>1.000000</td>\n",
              "      <td>1.000000</td>\n",
              "      <td>0.000000</td>\n",
              "      <td>1</td>\n",
              "    </tr>\n",
              "    <tr>\n",
              "      <th>2</th>\n",
              "      <td>0.001767</td>\n",
              "      <td>0.000061</td>\n",
              "      <td>0.000992</td>\n",
              "      <td>0.000093</td>\n",
              "      <td>100</td>\n",
              "      <td>linear</td>\n",
              "      <td>NaN</td>\n",
              "      <td>NaN</td>\n",
              "      <td>{'C': 100, 'kernel': 'linear'}</td>\n",
              "      <td>1.000000</td>\n",
              "      <td>1.000000</td>\n",
              "      <td>1.000000</td>\n",
              "      <td>1.000000</td>\n",
              "      <td>0.969697</td>\n",
              "      <td>0.993939</td>\n",
              "      <td>0.012121</td>\n",
              "      <td>4</td>\n",
              "    </tr>\n",
              "    <tr>\n",
              "      <th>3</th>\n",
              "      <td>0.002080</td>\n",
              "      <td>0.000108</td>\n",
              "      <td>0.000954</td>\n",
              "      <td>0.000049</td>\n",
              "      <td>1</td>\n",
              "      <td>poly</td>\n",
              "      <td>2</td>\n",
              "      <td>NaN</td>\n",
              "      <td>{'C': 1, 'degree': 2, 'kernel': 'poly'}</td>\n",
              "      <td>0.911765</td>\n",
              "      <td>0.941176</td>\n",
              "      <td>0.941176</td>\n",
              "      <td>0.939394</td>\n",
              "      <td>0.939394</td>\n",
              "      <td>0.934581</td>\n",
              "      <td>0.011436</td>\n",
              "      <td>13</td>\n",
              "    </tr>\n",
              "    <tr>\n",
              "      <th>4</th>\n",
              "      <td>0.002345</td>\n",
              "      <td>0.000638</td>\n",
              "      <td>0.001226</td>\n",
              "      <td>0.000432</td>\n",
              "      <td>1</td>\n",
              "      <td>poly</td>\n",
              "      <td>3</td>\n",
              "      <td>NaN</td>\n",
              "      <td>{'C': 1, 'degree': 3, 'kernel': 'poly'}</td>\n",
              "      <td>0.882353</td>\n",
              "      <td>0.764706</td>\n",
              "      <td>0.852941</td>\n",
              "      <td>0.818182</td>\n",
              "      <td>0.969697</td>\n",
              "      <td>0.857576</td>\n",
              "      <td>0.068386</td>\n",
              "      <td>17</td>\n",
              "    </tr>\n",
              "    <tr>\n",
              "      <th>5</th>\n",
              "      <td>0.002087</td>\n",
              "      <td>0.000020</td>\n",
              "      <td>0.000947</td>\n",
              "      <td>0.000021</td>\n",
              "      <td>1</td>\n",
              "      <td>poly</td>\n",
              "      <td>4</td>\n",
              "      <td>NaN</td>\n",
              "      <td>{'C': 1, 'degree': 4, 'kernel': 'poly'}</td>\n",
              "      <td>0.764706</td>\n",
              "      <td>0.735294</td>\n",
              "      <td>0.764706</td>\n",
              "      <td>0.757576</td>\n",
              "      <td>0.818182</td>\n",
              "      <td>0.768093</td>\n",
              "      <td>0.027270</td>\n",
              "      <td>18</td>\n",
              "    </tr>\n",
              "    <tr>\n",
              "      <th>6</th>\n",
              "      <td>0.002051</td>\n",
              "      <td>0.000407</td>\n",
              "      <td>0.001009</td>\n",
              "      <td>0.000233</td>\n",
              "      <td>10</td>\n",
              "      <td>poly</td>\n",
              "      <td>2</td>\n",
              "      <td>NaN</td>\n",
              "      <td>{'C': 10, 'degree': 2, 'kernel': 'poly'}</td>\n",
              "      <td>0.970588</td>\n",
              "      <td>0.970588</td>\n",
              "      <td>1.000000</td>\n",
              "      <td>0.969697</td>\n",
              "      <td>1.000000</td>\n",
              "      <td>0.982175</td>\n",
              "      <td>0.014558</td>\n",
              "      <td>6</td>\n",
              "    </tr>\n",
              "    <tr>\n",
              "      <th>7</th>\n",
              "      <td>0.002146</td>\n",
              "      <td>0.000666</td>\n",
              "      <td>0.001163</td>\n",
              "      <td>0.000506</td>\n",
              "      <td>10</td>\n",
              "      <td>poly</td>\n",
              "      <td>3</td>\n",
              "      <td>NaN</td>\n",
              "      <td>{'C': 10, 'degree': 3, 'kernel': 'poly'}</td>\n",
              "      <td>1.000000</td>\n",
              "      <td>0.970588</td>\n",
              "      <td>1.000000</td>\n",
              "      <td>1.000000</td>\n",
              "      <td>1.000000</td>\n",
              "      <td>0.994118</td>\n",
              "      <td>0.011765</td>\n",
              "      <td>2</td>\n",
              "    </tr>\n",
              "    <tr>\n",
              "      <th>8</th>\n",
              "      <td>0.001918</td>\n",
              "      <td>0.000064</td>\n",
              "      <td>0.000933</td>\n",
              "      <td>0.000017</td>\n",
              "      <td>10</td>\n",
              "      <td>poly</td>\n",
              "      <td>4</td>\n",
              "      <td>NaN</td>\n",
              "      <td>{'C': 10, 'degree': 4, 'kernel': 'poly'}</td>\n",
              "      <td>0.941176</td>\n",
              "      <td>0.970588</td>\n",
              "      <td>1.000000</td>\n",
              "      <td>0.969697</td>\n",
              "      <td>1.000000</td>\n",
              "      <td>0.976292</td>\n",
              "      <td>0.022060</td>\n",
              "      <td>8</td>\n",
              "    </tr>\n",
              "    <tr>\n",
              "      <th>9</th>\n",
              "      <td>0.001847</td>\n",
              "      <td>0.000042</td>\n",
              "      <td>0.000940</td>\n",
              "      <td>0.000032</td>\n",
              "      <td>100</td>\n",
              "      <td>poly</td>\n",
              "      <td>2</td>\n",
              "      <td>NaN</td>\n",
              "      <td>{'C': 100, 'degree': 2, 'kernel': 'poly'}</td>\n",
              "      <td>0.970588</td>\n",
              "      <td>0.970588</td>\n",
              "      <td>1.000000</td>\n",
              "      <td>0.969697</td>\n",
              "      <td>1.000000</td>\n",
              "      <td>0.982175</td>\n",
              "      <td>0.014558</td>\n",
              "      <td>6</td>\n",
              "    </tr>\n",
              "    <tr>\n",
              "      <th>10</th>\n",
              "      <td>0.001903</td>\n",
              "      <td>0.000166</td>\n",
              "      <td>0.000985</td>\n",
              "      <td>0.000098</td>\n",
              "      <td>100</td>\n",
              "      <td>poly</td>\n",
              "      <td>3</td>\n",
              "      <td>NaN</td>\n",
              "      <td>{'C': 100, 'degree': 3, 'kernel': 'poly'}</td>\n",
              "      <td>1.000000</td>\n",
              "      <td>0.970588</td>\n",
              "      <td>1.000000</td>\n",
              "      <td>1.000000</td>\n",
              "      <td>1.000000</td>\n",
              "      <td>0.994118</td>\n",
              "      <td>0.011765</td>\n",
              "      <td>2</td>\n",
              "    </tr>\n",
              "    <tr>\n",
              "      <th>11</th>\n",
              "      <td>0.002040</td>\n",
              "      <td>0.000420</td>\n",
              "      <td>0.000960</td>\n",
              "      <td>0.000145</td>\n",
              "      <td>100</td>\n",
              "      <td>poly</td>\n",
              "      <td>4</td>\n",
              "      <td>NaN</td>\n",
              "      <td>{'C': 100, 'degree': 4, 'kernel': 'poly'}</td>\n",
              "      <td>0.941176</td>\n",
              "      <td>0.970588</td>\n",
              "      <td>1.000000</td>\n",
              "      <td>0.969697</td>\n",
              "      <td>1.000000</td>\n",
              "      <td>0.976292</td>\n",
              "      <td>0.022060</td>\n",
              "      <td>8</td>\n",
              "    </tr>\n",
              "    <tr>\n",
              "      <th>12</th>\n",
              "      <td>0.002067</td>\n",
              "      <td>0.000056</td>\n",
              "      <td>0.001001</td>\n",
              "      <td>0.000040</td>\n",
              "      <td>1</td>\n",
              "      <td>rbf</td>\n",
              "      <td>NaN</td>\n",
              "      <td>0.1</td>\n",
              "      <td>{'C': 1, 'gamma': 0.1, 'kernel': 'rbf'}</td>\n",
              "      <td>0.882353</td>\n",
              "      <td>0.970588</td>\n",
              "      <td>0.911765</td>\n",
              "      <td>0.939394</td>\n",
              "      <td>0.878788</td>\n",
              "      <td>0.916578</td>\n",
              "      <td>0.034815</td>\n",
              "      <td>16</td>\n",
              "    </tr>\n",
              "    <tr>\n",
              "      <th>13</th>\n",
              "      <td>0.002579</td>\n",
              "      <td>0.000138</td>\n",
              "      <td>0.001151</td>\n",
              "      <td>0.000196</td>\n",
              "      <td>1</td>\n",
              "      <td>rbf</td>\n",
              "      <td>NaN</td>\n",
              "      <td>0.01</td>\n",
              "      <td>{'C': 1, 'gamma': 0.01, 'kernel': 'rbf'}</td>\n",
              "      <td>0.588235</td>\n",
              "      <td>0.411765</td>\n",
              "      <td>0.470588</td>\n",
              "      <td>0.454545</td>\n",
              "      <td>0.484848</td>\n",
              "      <td>0.481996</td>\n",
              "      <td>0.058500</td>\n",
              "      <td>19</td>\n",
              "    </tr>\n",
              "    <tr>\n",
              "      <th>14</th>\n",
              "      <td>0.002633</td>\n",
              "      <td>0.000034</td>\n",
              "      <td>0.001039</td>\n",
              "      <td>0.000029</td>\n",
              "      <td>1</td>\n",
              "      <td>rbf</td>\n",
              "      <td>NaN</td>\n",
              "      <td>0.001</td>\n",
              "      <td>{'C': 1, 'gamma': 0.001, 'kernel': 'rbf'}</td>\n",
              "      <td>0.352941</td>\n",
              "      <td>0.264706</td>\n",
              "      <td>0.264706</td>\n",
              "      <td>0.303030</td>\n",
              "      <td>0.333333</td>\n",
              "      <td>0.303743</td>\n",
              "      <td>0.035621</td>\n",
              "      <td>21</td>\n",
              "    </tr>\n",
              "    <tr>\n",
              "      <th>15</th>\n",
              "      <td>0.001796</td>\n",
              "      <td>0.000035</td>\n",
              "      <td>0.000932</td>\n",
              "      <td>0.000039</td>\n",
              "      <td>10</td>\n",
              "      <td>rbf</td>\n",
              "      <td>NaN</td>\n",
              "      <td>0.1</td>\n",
              "      <td>{'C': 10, 'gamma': 0.1, 'kernel': 'rbf'}</td>\n",
              "      <td>0.941176</td>\n",
              "      <td>0.970588</td>\n",
              "      <td>0.941176</td>\n",
              "      <td>0.969697</td>\n",
              "      <td>0.939394</td>\n",
              "      <td>0.952406</td>\n",
              "      <td>0.014499</td>\n",
              "      <td>11</td>\n",
              "    </tr>\n",
              "    <tr>\n",
              "      <th>16</th>\n",
              "      <td>0.001998</td>\n",
              "      <td>0.000023</td>\n",
              "      <td>0.000976</td>\n",
              "      <td>0.000016</td>\n",
              "      <td>10</td>\n",
              "      <td>rbf</td>\n",
              "      <td>NaN</td>\n",
              "      <td>0.01</td>\n",
              "      <td>{'C': 10, 'gamma': 0.01, 'kernel': 'rbf'}</td>\n",
              "      <td>0.882353</td>\n",
              "      <td>1.000000</td>\n",
              "      <td>0.941176</td>\n",
              "      <td>0.939394</td>\n",
              "      <td>0.848485</td>\n",
              "      <td>0.922282</td>\n",
              "      <td>0.052403</td>\n",
              "      <td>15</td>\n",
              "    </tr>\n",
              "    <tr>\n",
              "      <th>17</th>\n",
              "      <td>0.002468</td>\n",
              "      <td>0.000020</td>\n",
              "      <td>0.001016</td>\n",
              "      <td>0.000008</td>\n",
              "      <td>10</td>\n",
              "      <td>rbf</td>\n",
              "      <td>NaN</td>\n",
              "      <td>0.001</td>\n",
              "      <td>{'C': 10, 'gamma': 0.001, 'kernel': 'rbf'}</td>\n",
              "      <td>0.529412</td>\n",
              "      <td>0.411765</td>\n",
              "      <td>0.500000</td>\n",
              "      <td>0.454545</td>\n",
              "      <td>0.484848</td>\n",
              "      <td>0.476114</td>\n",
              "      <td>0.040233</td>\n",
              "      <td>20</td>\n",
              "    </tr>\n",
              "    <tr>\n",
              "      <th>18</th>\n",
              "      <td>0.001729</td>\n",
              "      <td>0.000069</td>\n",
              "      <td>0.000892</td>\n",
              "      <td>0.000031</td>\n",
              "      <td>100</td>\n",
              "      <td>rbf</td>\n",
              "      <td>NaN</td>\n",
              "      <td>0.1</td>\n",
              "      <td>{'C': 100, 'gamma': 0.1, 'kernel': 'rbf'}</td>\n",
              "      <td>1.000000</td>\n",
              "      <td>1.000000</td>\n",
              "      <td>1.000000</td>\n",
              "      <td>1.000000</td>\n",
              "      <td>0.969697</td>\n",
              "      <td>0.993939</td>\n",
              "      <td>0.012121</td>\n",
              "      <td>4</td>\n",
              "    </tr>\n",
              "    <tr>\n",
              "      <th>19</th>\n",
              "      <td>0.001733</td>\n",
              "      <td>0.000045</td>\n",
              "      <td>0.000905</td>\n",
              "      <td>0.000014</td>\n",
              "      <td>100</td>\n",
              "      <td>rbf</td>\n",
              "      <td>NaN</td>\n",
              "      <td>0.01</td>\n",
              "      <td>{'C': 100, 'gamma': 0.01, 'kernel': 'rbf'}</td>\n",
              "      <td>0.970588</td>\n",
              "      <td>1.000000</td>\n",
              "      <td>0.941176</td>\n",
              "      <td>0.969697</td>\n",
              "      <td>0.939394</td>\n",
              "      <td>0.964171</td>\n",
              "      <td>0.022352</td>\n",
              "      <td>10</td>\n",
              "    </tr>\n",
              "    <tr>\n",
              "      <th>20</th>\n",
              "      <td>0.001945</td>\n",
              "      <td>0.000060</td>\n",
              "      <td>0.000941</td>\n",
              "      <td>0.000013</td>\n",
              "      <td>100</td>\n",
              "      <td>rbf</td>\n",
              "      <td>NaN</td>\n",
              "      <td>0.001</td>\n",
              "      <td>{'C': 100, 'gamma': 0.001, 'kernel': 'rbf'}</td>\n",
              "      <td>0.882353</td>\n",
              "      <td>1.000000</td>\n",
              "      <td>0.941176</td>\n",
              "      <td>0.939394</td>\n",
              "      <td>0.878788</td>\n",
              "      <td>0.928342</td>\n",
              "      <td>0.044704</td>\n",
              "      <td>14</td>\n",
              "    </tr>\n",
              "  </tbody>\n",
              "</table>\n",
              "</div>"
            ],
            "text/plain": [
              "    mean_fit_time  std_fit_time  ...  std_test_score  rank_test_score\n",
              "0        0.002618      0.001277  ...        0.028976               12\n",
              "1        0.001841      0.000082  ...        0.000000                1\n",
              "2        0.001767      0.000061  ...        0.012121                4\n",
              "3        0.002080      0.000108  ...        0.011436               13\n",
              "4        0.002345      0.000638  ...        0.068386               17\n",
              "5        0.002087      0.000020  ...        0.027270               18\n",
              "6        0.002051      0.000407  ...        0.014558                6\n",
              "7        0.002146      0.000666  ...        0.011765                2\n",
              "8        0.001918      0.000064  ...        0.022060                8\n",
              "9        0.001847      0.000042  ...        0.014558                6\n",
              "10       0.001903      0.000166  ...        0.011765                2\n",
              "11       0.002040      0.000420  ...        0.022060                8\n",
              "12       0.002067      0.000056  ...        0.034815               16\n",
              "13       0.002579      0.000138  ...        0.058500               19\n",
              "14       0.002633      0.000034  ...        0.035621               21\n",
              "15       0.001796      0.000035  ...        0.014499               11\n",
              "16       0.001998      0.000023  ...        0.052403               15\n",
              "17       0.002468      0.000020  ...        0.040233               20\n",
              "18       0.001729      0.000069  ...        0.012121                4\n",
              "19       0.001733      0.000045  ...        0.022352               10\n",
              "20       0.001945      0.000060  ...        0.044704               14\n",
              "\n",
              "[21 rows x 17 columns]"
            ]
          },
          "metadata": {
            "tags": []
          },
          "execution_count": 118
        }
      ]
    },
    {
      "cell_type": "code",
      "metadata": {
        "colab": {
          "base_uri": "https://localhost:8080/"
        },
        "id": "vWg6Rk8DXzm4",
        "outputId": "d766668d-33ca-4650-cb6e-d02e25931b3b"
      },
      "source": [
        "pred_grid.best_params_"
      ],
      "execution_count": 119,
      "outputs": [
        {
          "output_type": "execute_result",
          "data": {
            "text/plain": [
              "{'C': 10, 'kernel': 'linear'}"
            ]
          },
          "metadata": {
            "tags": []
          },
          "execution_count": 119
        }
      ]
    },
    {
      "cell_type": "code",
      "metadata": {
        "colab": {
          "base_uri": "https://localhost:8080/",
          "height": 279
        },
        "id": "vurJRkJTYUXX",
        "outputId": "c04ad9f8-1b33-4672-868a-3e1f4d201fc3"
      },
      "source": [
        "plot_confusion_matrix(pred_grid, X_test, y_test) \n",
        "plt.show()"
      ],
      "execution_count": 120,
      "outputs": [
        {
          "output_type": "display_data",
          "data": {
            "image/png": "[encoded data removed]",
            "text/plain": [
              "<Figure size 432x288 with 2 Axes>"
            ]
          },
          "metadata": {
            "tags": [],
            "needs_background": "light"
          }
        }
      ]
    },
    {
      "cell_type": "code",
      "metadata": {
        "id": "q0YvhBM9YiNH"
      },
      "source": [
        "y_pred = pred_grid.predict(X_test)\n",
        "cr = classification_report(y_test, y_pred)"
      ],
      "execution_count": 138,
      "outputs": []
    },
    {
      "cell_type": "code",
      "metadata": {
        "colab": {
          "base_uri": "https://localhost:8080/"
        },
        "id": "2jSmTfRua-on",
        "outputId": "ea3b81f3-1c5c-4539-cbd6-b777adea9f70"
      },
      "source": [
        "print(cr)"
      ],
      "execution_count": 141,
      "outputs": [
        {
          "output_type": "stream",
          "text": [
            "              precision    recall  f1-score   support\n",
            "\n",
            "           0       1.00      1.00      1.00        14\n",
            "           1       1.00      1.00      1.00        12\n",
            "           2       1.00      1.00      1.00        10\n",
            "           3       1.00      1.00      1.00        10\n",
            "           4       1.00      1.00      1.00        11\n",
            "           5       1.00      1.00      1.00        15\n",
            "\n",
            "    accuracy                           1.00        72\n",
            "   macro avg       1.00      1.00      1.00        72\n",
            "weighted avg       1.00      1.00      1.00        72\n",
            "\n"
          ],
          "name": "stdout"
        }
      ]
    },
    {
      "cell_type": "code",
      "metadata": {
        "colab": {
          "base_uri": "https://localhost:8080/"
        },
        "id": "JYD2_j4GbbHF",
        "outputId": "eeb89b0d-5d0d-4012-883e-55c192783c7e"
      },
      "source": [
        "pred_grid.score(X_test, y_test)"
      ],
      "execution_count": 144,
      "outputs": [
        {
          "output_type": "execute_result",
          "data": {
            "text/plain": [
              "1.0"
            ]
          },
          "metadata": {
            "tags": []
          },
          "execution_count": 144
        }
      ]
    },
    {
      "cell_type": "code",
      "metadata": {
        "id": "-Ck7JaLRb4F_"
      },
      "source": [
        ""
      ],
      "execution_count": null,
      "outputs": []
    }
  ]
}